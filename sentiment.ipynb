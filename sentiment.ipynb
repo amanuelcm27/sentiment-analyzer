{
 "cells": [
  {
   "cell_type": "markdown",
   "id": "b0d941ac",
   "metadata": {},
   "source": [
    "# Sentiment analysis model"
   ]
  },
  {
   "cell_type": "code",
   "execution_count": null,
   "id": "cfc82068",
   "metadata": {},
   "outputs": [],
   "source": [
    "import pandas as pd\n",
    "import numpy as np\n",
    "import sklearn\n",
    "import tensorflow as tf\n",
    "import torch"
   ]
  },
  {
   "cell_type": "markdown",
   "id": "e325b7db",
   "metadata": {},
   "source": [
    "# Loading our dataset"
   ]
  },
  {
   "cell_type": "code",
   "execution_count": null,
   "id": "17426cc0",
   "metadata": {},
   "outputs": [
    {
     "name": "stdout",
     "output_type": "stream",
     "text": [
      "Found 25000 files belonging to 2 classes.\n"
     ]
    },
    {
     "data": {
      "text/plain": [
       "['neg', 'pos']"
      ]
     },
     "execution_count": 36,
     "metadata": {},
     "output_type": "execute_result"
    }
   ],
   "source": [
    "# loading reviews dataset\n",
    "reviews = tf.keras.utils.text_dataset_from_directory(\n",
    "    'data/train',\n",
    "    batch_size=32,\n",
    "    seed=123,\n",
    ")\n",
    "reviews.class_names"
   ]
  },
  {
   "cell_type": "code",
   "execution_count": null,
   "id": "9bb18ca7",
   "metadata": {},
   "outputs": [
    {
     "name": "stdout",
     "output_type": "stream",
     "text": [
      "number of reviews: 25000\n"
     ]
    }
   ],
   "source": [
    "texts = []\n",
    "labels = []\n",
    "for batch, label in reviews:\n",
    "    batch_texts = batch.numpy()\n",
    "    batch_texts = [text.decode('utf-8') for text in batch_texts]\n",
    "    labels.extend(label.numpy())\n",
    "    texts.extend(batch_texts)\n",
    "print(f\"number of reviews: {len(texts)}\")"
   ]
  },
  {
   "cell_type": "markdown",
   "id": "f5b43124",
   "metadata": {},
   "source": [
    "# Embedding the reviews for sentiment analysis "
   ]
  },
  {
   "cell_type": "code",
   "execution_count": 28,
   "id": "fc126a0c",
   "metadata": {},
   "outputs": [
    {
     "name": "stderr",
     "output_type": "stream",
     "text": [
      "Batches: 100%|██████████| 782/782 [12:38<00:00,  1.03it/s]\n"
     ]
    }
   ],
   "source": [
    "from sentence_transformers import SentenceTransformer\n",
    "model = SentenceTransformer('all-MiniLM-L6-v2')\n",
    "embeddings = model.encode(texts, show_progress_bar=True , batch_size=32)"
   ]
  },
  {
   "cell_type": "code",
   "execution_count": 39,
   "id": "3a5939ff",
   "metadata": {},
   "outputs": [],
   "source": [
    "# save the embeddings\n",
    "np.save('models/review_embeddings.npy', embeddings)\n",
    "np.save('models/review_labels.npy', labels)"
   ]
  },
  {
   "cell_type": "code",
   "execution_count": 41,
   "id": "68c99e8b",
   "metadata": {},
   "outputs": [
    {
     "data": {
      "text/plain": [
       "((25000, 384), (25000,))"
      ]
     },
     "execution_count": 41,
     "metadata": {},
     "output_type": "execute_result"
    }
   ],
   "source": [
    "reviews = np.load('models/review_embeddings.npy')\n",
    "labels = np.load('models/review_labels.npy')\n",
    "reviews.shape, labels.shape"
   ]
  },
  {
   "cell_type": "markdown",
   "id": "4dc9a05c",
   "metadata": {},
   "source": [
    "# Building the Neural Network"
   ]
  },
  {
   "cell_type": "markdown",
   "id": "65f55326",
   "metadata": {},
   "source": []
  }
 ],
 "metadata": {
  "kernelspec": {
   "display_name": ".venv",
   "language": "python",
   "name": "python3"
  },
  "language_info": {
   "codemirror_mode": {
    "name": "ipython",
    "version": 3
   },
   "file_extension": ".py",
   "mimetype": "text/x-python",
   "name": "python",
   "nbconvert_exporter": "python",
   "pygments_lexer": "ipython3",
   "version": "3.10.11"
  }
 },
 "nbformat": 4,
 "nbformat_minor": 5
}
