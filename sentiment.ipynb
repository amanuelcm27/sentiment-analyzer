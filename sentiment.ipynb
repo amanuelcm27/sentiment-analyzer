{
 "cells": [
  {
   "cell_type": "markdown",
   "id": "b0d941ac",
   "metadata": {},
   "source": [
    "# Sentiment analysis model"
   ]
  },
  {
   "cell_type": "code",
   "execution_count": 3,
   "id": "cfc82068",
   "metadata": {},
   "outputs": [],
   "source": [
    "import pandas as pd\n",
    "import numpy as np\n",
    "import sklearn\n",
    "import tensorflow as tf\n",
    "import torch"
   ]
  },
  {
   "cell_type": "markdown",
   "id": "e325b7db",
   "metadata": {},
   "source": [
    "# Loading our dataset"
   ]
  },
  {
   "cell_type": "code",
   "execution_count": 4,
   "id": "17426cc0",
   "metadata": {},
   "outputs": [
    {
     "name": "stdout",
     "output_type": "stream",
     "text": [
      "Found 25000 files belonging to 2 classes.\n"
     ]
    },
    {
     "data": {
      "text/plain": [
       "['neg', 'pos']"
      ]
     },
     "execution_count": 4,
     "metadata": {},
     "output_type": "execute_result"
    }
   ],
   "source": [
    "# loading reviews dataset\n",
    "reviews = tf.keras.utils.text_dataset_from_directory(\n",
    "    'data/train',\n",
    "    batch_size=32,\n",
    "    seed=123,\n",
    ")\n",
    "reviews.class_names"
   ]
  },
  {
   "cell_type": "code",
   "execution_count": 5,
   "id": "9bb18ca7",
   "metadata": {},
   "outputs": [],
   "source": [
    "texts = []\n",
    "labels = []\n",
    "\n",
    "import re\n",
    "\n",
    "def clean_text(text):\n",
    "    text = re.sub(r'<.*?>', ' ', text)\n",
    "    text = re.sub(r'\\s+', ' ', text)\n",
    "    return text.strip()\n",
    "\n",
    "\n",
    "for batch, label in reviews:\n",
    "    batch_texts = [clean_text(t.decode(\"utf-8\")) for t in batch.numpy()]\n",
    "    texts.extend(batch_texts)\n",
    "    labels.extend(label.numpy())\n",
    "\n",
    "\n"
   ]
  },
  {
   "cell_type": "code",
   "execution_count": 6,
   "id": "370f0d17",
   "metadata": {},
   "outputs": [
    {
     "name": "stdout",
     "output_type": "stream",
     "text": [
      "text5 In this 1943 film, Judy Garland is deemed not to be ready for the big-time yet by the man who loves her-Van Heflin. This film was certainly a big change for Mr. Heflin, especially after his supporting Oscar win the year before in \"Johnny Eager.\" Wasn't Spring Byington too old to be the widowed mother of 5 children, with four of them appearing to look like her grandchildren? The singing and dancing are just marvelously staged but the way that the blossoming romance between Heflin and Garland was depicted left a lot to be desired. It was a Gigi-like one where a young girl is eventually swept off her feet by a charmer.\n",
      "label5 1\n",
      "None\n",
      "True\n",
      "0\n",
      "False\n"
     ]
    }
   ],
   "source": [
    "# print 1 examples text and its label\n",
    "# print('text', texts[1])\n",
    "# print('label', labels[1])\n",
    "# print('text2' , texts[2])\n",
    "# print('label2' , labels[2])\n",
    "# print('text3' , texts[3])\n",
    "# print('label3' , labels[3])\n",
    "# print('text4' , texts[4])sti\n",
    "# print('label4' , labels[4])\n",
    "print('text5' , texts[5])\n",
    "print('label5' , labels[5])\n",
    "import torch\n",
    "print(torch.version.cuda)        # Should print something like '11.8' or similar\n",
    "print(torch.backends.cudnn.enabled)  # Should be True if CUDA is enabled\n",
    "print(torch.cuda.device_count()) # Should be >=1 if CUDA devices are detected\n",
    "print(torch.cuda.is_available())  # Should be True if CUDA is available\n",
    "\n"
   ]
  },
  {
   "cell_type": "markdown",
   "id": "f5b43124",
   "metadata": {},
   "source": [
    "# Embedding the reviews for sentiment analysis "
   ]
  },
  {
   "cell_type": "code",
   "execution_count": 9,
   "id": "fc126a0c",
   "metadata": {},
   "outputs": [
    {
     "name": "stderr",
     "output_type": "stream",
     "text": [
      "c:\\Users\\25194\\Desktop\\Sentiment-Analyzer\\.venv\\lib\\site-packages\\tqdm\\auto.py:21: TqdmWarning: IProgress not found. Please update jupyter and ipywidgets. See https://ipywidgets.readthedocs.io/en/stable/user_install.html\n",
      "  from .autonotebook import tqdm as notebook_tqdm\n"
     ]
    },
    {
     "name": "stdout",
     "output_type": "stream",
     "text": [
      "WARNING:tensorflow:From c:\\Users\\25194\\Desktop\\Sentiment-Analyzer\\.venv\\lib\\site-packages\\tf_keras\\src\\losses.py:2976: The name tf.losses.sparse_softmax_cross_entropy is deprecated. Please use tf.compat.v1.losses.sparse_softmax_cross_entropy instead.\n",
      "\n"
     ]
    },
    {
     "name": "stderr",
     "output_type": "stream",
     "text": [
      "c:\\Users\\25194\\Desktop\\Sentiment-Analyzer\\.venv\\lib\\site-packages\\huggingface_hub\\file_download.py:143: UserWarning: `huggingface_hub` cache-system uses symlinks by default to efficiently store duplicated files but your machine does not support them in C:\\Users\\25194\\.cache\\huggingface\\hub\\models--sentence-transformers--all-mpnet-base-v2. Caching files will still work but in a degraded version that might require more space on your disk. This warning can be disabled by setting the `HF_HUB_DISABLE_SYMLINKS_WARNING` environment variable. For more details, see https://huggingface.co/docs/huggingface_hub/how-to-cache#limitations.\n",
      "To support symlinks on Windows, you either need to activate Developer Mode or to run Python as an administrator. In order to activate developer mode, see this article: https://docs.microsoft.com/en-us/windows/apps/get-started/enable-your-device-for-development\n",
      "  warnings.warn(message)\n"
     ]
    }
   ],
   "source": [
    "from sentence_transformers import SentenceTransformer\n",
    "model = SentenceTransformer('all-mpnet-base-v2')\n",
    "# review_embeddings = model.encode(texts, show_progress_bar=True , batch_size=32)"
   ]
  },
  {
   "cell_type": "code",
   "execution_count": null,
   "id": "3a5939ff",
   "metadata": {},
   "outputs": [],
   "source": [
    "# # save the embeddings\n",
    "# np.save('models/review_embeddings.npy', review_embeddings)\n",
    "# np.save('models/review_labels.npy', labels)\n"
   ]
  },
  {
   "cell_type": "code",
   "execution_count": 10,
   "id": "68c99e8b",
   "metadata": {},
   "outputs": [
    {
     "data": {
      "text/plain": [
       "((25000, 384), (25000,))"
      ]
     },
     "execution_count": 10,
     "metadata": {},
     "output_type": "execute_result"
    }
   ],
   "source": [
    "reviews_emb = np.load('models/review_embeddings.npy')\n",
    "labels = np.load('models/review_labels.npy')\n",
    "reviews_emb.shape, labels.shape"
   ]
  },
  {
   "cell_type": "code",
   "execution_count": 11,
   "id": "25e9c5ca",
   "metadata": {},
   "outputs": [
    {
     "name": "stdout",
     "output_type": "stream",
     "text": [
      "review 5 (384,)\n",
      "label 5 1\n"
     ]
    }
   ],
   "source": [
    "print(f\"review 5\" , reviews_emb[5].shape)\n",
    "print(f\"label 5\" , labels[5])"
   ]
  },
  {
   "cell_type": "markdown",
   "id": "4dc9a05c",
   "metadata": {},
   "source": [
    "# Building the Neural Network"
   ]
  },
  {
   "cell_type": "code",
   "execution_count": 283,
   "id": "fbf075ad",
   "metadata": {},
   "outputs": [
    {
     "data": {
      "text/html": [
       "<pre style=\"white-space:pre;overflow-x:auto;line-height:normal;font-family:Menlo,'DejaVu Sans Mono',consolas,'Courier New',monospace\"><span style=\"font-weight: bold\">Model: \"sequential_16\"</span>\n",
       "</pre>\n"
      ],
      "text/plain": [
       "\u001b[1mModel: \"sequential_16\"\u001b[0m\n"
      ]
     },
     "metadata": {},
     "output_type": "display_data"
    },
    {
     "data": {
      "text/html": [
       "<pre style=\"white-space:pre;overflow-x:auto;line-height:normal;font-family:Menlo,'DejaVu Sans Mono',consolas,'Courier New',monospace\">┏━━━━━━━━━━━━━━━━━━━━━━━━━━━━━━━━━┳━━━━━━━━━━━━━━━━━━━━━━━━┳━━━━━━━━━━━━━━━┓\n",
       "┃<span style=\"font-weight: bold\"> Layer (type)                    </span>┃<span style=\"font-weight: bold\"> Output Shape           </span>┃<span style=\"font-weight: bold\">       Param # </span>┃\n",
       "┡━━━━━━━━━━━━━━━━━━━━━━━━━━━━━━━━━╇━━━━━━━━━━━━━━━━━━━━━━━━╇━━━━━━━━━━━━━━━┩\n",
       "│ dense_40 (<span style=\"color: #0087ff; text-decoration-color: #0087ff\">Dense</span>)                │ (<span style=\"color: #00d7ff; text-decoration-color: #00d7ff\">None</span>, <span style=\"color: #00af00; text-decoration-color: #00af00\">128</span>)            │        <span style=\"color: #00af00; text-decoration-color: #00af00\">49,280</span> │\n",
       "├─────────────────────────────────┼────────────────────────┼───────────────┤\n",
       "│ dropout_24 (<span style=\"color: #0087ff; text-decoration-color: #0087ff\">Dropout</span>)            │ (<span style=\"color: #00d7ff; text-decoration-color: #00d7ff\">None</span>, <span style=\"color: #00af00; text-decoration-color: #00af00\">128</span>)            │             <span style=\"color: #00af00; text-decoration-color: #00af00\">0</span> │\n",
       "├─────────────────────────────────┼────────────────────────┼───────────────┤\n",
       "│ dense_41 (<span style=\"color: #0087ff; text-decoration-color: #0087ff\">Dense</span>)                │ (<span style=\"color: #00d7ff; text-decoration-color: #00d7ff\">None</span>, <span style=\"color: #00af00; text-decoration-color: #00af00\">1</span>)              │           <span style=\"color: #00af00; text-decoration-color: #00af00\">129</span> │\n",
       "└─────────────────────────────────┴────────────────────────┴───────────────┘\n",
       "</pre>\n"
      ],
      "text/plain": [
       "┏━━━━━━━━━━━━━━━━━━━━━━━━━━━━━━━━━┳━━━━━━━━━━━━━━━━━━━━━━━━┳━━━━━━━━━━━━━━━┓\n",
       "┃\u001b[1m \u001b[0m\u001b[1mLayer (type)                   \u001b[0m\u001b[1m \u001b[0m┃\u001b[1m \u001b[0m\u001b[1mOutput Shape          \u001b[0m\u001b[1m \u001b[0m┃\u001b[1m \u001b[0m\u001b[1m      Param #\u001b[0m\u001b[1m \u001b[0m┃\n",
       "┡━━━━━━━━━━━━━━━━━━━━━━━━━━━━━━━━━╇━━━━━━━━━━━━━━━━━━━━━━━━╇━━━━━━━━━━━━━━━┩\n",
       "│ dense_40 (\u001b[38;5;33mDense\u001b[0m)                │ (\u001b[38;5;45mNone\u001b[0m, \u001b[38;5;34m128\u001b[0m)            │        \u001b[38;5;34m49,280\u001b[0m │\n",
       "├─────────────────────────────────┼────────────────────────┼───────────────┤\n",
       "│ dropout_24 (\u001b[38;5;33mDropout\u001b[0m)            │ (\u001b[38;5;45mNone\u001b[0m, \u001b[38;5;34m128\u001b[0m)            │             \u001b[38;5;34m0\u001b[0m │\n",
       "├─────────────────────────────────┼────────────────────────┼───────────────┤\n",
       "│ dense_41 (\u001b[38;5;33mDense\u001b[0m)                │ (\u001b[38;5;45mNone\u001b[0m, \u001b[38;5;34m1\u001b[0m)              │           \u001b[38;5;34m129\u001b[0m │\n",
       "└─────────────────────────────────┴────────────────────────┴───────────────┘\n"
      ]
     },
     "metadata": {},
     "output_type": "display_data"
    },
    {
     "data": {
      "text/html": [
       "<pre style=\"white-space:pre;overflow-x:auto;line-height:normal;font-family:Menlo,'DejaVu Sans Mono',consolas,'Courier New',monospace\"><span style=\"font-weight: bold\"> Total params: </span><span style=\"color: #00af00; text-decoration-color: #00af00\">49,409</span> (193.00 KB)\n",
       "</pre>\n"
      ],
      "text/plain": [
       "\u001b[1m Total params: \u001b[0m\u001b[38;5;34m49,409\u001b[0m (193.00 KB)\n"
      ]
     },
     "metadata": {},
     "output_type": "display_data"
    },
    {
     "data": {
      "text/html": [
       "<pre style=\"white-space:pre;overflow-x:auto;line-height:normal;font-family:Menlo,'DejaVu Sans Mono',consolas,'Courier New',monospace\"><span style=\"font-weight: bold\"> Trainable params: </span><span style=\"color: #00af00; text-decoration-color: #00af00\">49,409</span> (193.00 KB)\n",
       "</pre>\n"
      ],
      "text/plain": [
       "\u001b[1m Trainable params: \u001b[0m\u001b[38;5;34m49,409\u001b[0m (193.00 KB)\n"
      ]
     },
     "metadata": {},
     "output_type": "display_data"
    },
    {
     "data": {
      "text/html": [
       "<pre style=\"white-space:pre;overflow-x:auto;line-height:normal;font-family:Menlo,'DejaVu Sans Mono',consolas,'Courier New',monospace\"><span style=\"font-weight: bold\"> Non-trainable params: </span><span style=\"color: #00af00; text-decoration-color: #00af00\">0</span> (0.00 B)\n",
       "</pre>\n"
      ],
      "text/plain": [
       "\u001b[1m Non-trainable params: \u001b[0m\u001b[38;5;34m0\u001b[0m (0.00 B)\n"
      ]
     },
     "metadata": {},
     "output_type": "display_data"
    }
   ],
   "source": [
    "from tensorflow.keras.layers import Dense, Dropout, Input, BatchNormalization\n",
    "from tensorflow.keras.models import Sequential  \n",
    "from tensorflow.keras.regularizers import l2\n",
    "\n",
    "\n",
    "sentiment_model = Sequential([\n",
    "    Input(shape=(384,)),\n",
    "    Dense(128, activation='relu'),\n",
    "    Dropout(0.3),\n",
    "    Dense(1, activation='sigmoid')\n",
    "])\n",
    "sentiment_model.summary()\n"
   ]
  },
  {
   "cell_type": "markdown",
   "id": "b933591a",
   "metadata": {},
   "source": [
    "# Compiling and fitting our model"
   ]
  },
  {
   "cell_type": "code",
   "execution_count": 285,
   "id": "fa3b72b7",
   "metadata": {},
   "outputs": [
    {
     "name": "stdout",
     "output_type": "stream",
     "text": [
      "Epoch 1/10\n",
      "\u001b[1m625/625\u001b[0m \u001b[32m━━━━━━━━━━━━━━━━━━━━\u001b[0m\u001b[37m\u001b[0m \u001b[1m1s\u001b[0m 2ms/step - accuracy: 0.8619 - loss: 0.3211 - val_accuracy: 0.8260 - val_loss: 0.3883\n",
      "Epoch 2/10\n",
      "\u001b[1m625/625\u001b[0m \u001b[32m━━━━━━━━━━━━━━━━━━━━\u001b[0m\u001b[37m\u001b[0m \u001b[1m1s\u001b[0m 1ms/step - accuracy: 0.8662 - loss: 0.3189 - val_accuracy: 0.8288 - val_loss: 0.3876\n",
      "Epoch 3/10\n",
      "\u001b[1m625/625\u001b[0m \u001b[32m━━━━━━━━━━━━━━━━━━━━\u001b[0m\u001b[37m\u001b[0m \u001b[1m1s\u001b[0m 1ms/step - accuracy: 0.8642 - loss: 0.3199 - val_accuracy: 0.8278 - val_loss: 0.3878\n",
      "Epoch 4/10\n",
      "\u001b[1m625/625\u001b[0m \u001b[32m━━━━━━━━━━━━━━━━━━━━\u001b[0m\u001b[37m\u001b[0m \u001b[1m1s\u001b[0m 1ms/step - accuracy: 0.8643 - loss: 0.3200 - val_accuracy: 0.8274 - val_loss: 0.3879\n",
      "Epoch 5/10\n",
      "\u001b[1m625/625\u001b[0m \u001b[32m━━━━━━━━━━━━━━━━━━━━\u001b[0m\u001b[37m\u001b[0m \u001b[1m1s\u001b[0m 1ms/step - accuracy: 0.8684 - loss: 0.3177 - val_accuracy: 0.8278 - val_loss: 0.3876\n",
      "Epoch 6/10\n",
      "\u001b[1m625/625\u001b[0m \u001b[32m━━━━━━━━━━━━━━━━━━━━\u001b[0m\u001b[37m\u001b[0m \u001b[1m1s\u001b[0m 1ms/step - accuracy: 0.8708 - loss: 0.3138 - val_accuracy: 0.8280 - val_loss: 0.3874\n",
      "Epoch 7/10\n",
      "\u001b[1m625/625\u001b[0m \u001b[32m━━━━━━━━━━━━━━━━━━━━\u001b[0m\u001b[37m\u001b[0m \u001b[1m1s\u001b[0m 1ms/step - accuracy: 0.8660 - loss: 0.3167 - val_accuracy: 0.8284 - val_loss: 0.3875\n",
      "Epoch 8/10\n",
      "\u001b[1m625/625\u001b[0m \u001b[32m━━━━━━━━━━━━━━━━━━━━\u001b[0m\u001b[37m\u001b[0m \u001b[1m1s\u001b[0m 1ms/step - accuracy: 0.8671 - loss: 0.3168 - val_accuracy: 0.8294 - val_loss: 0.3880\n",
      "Epoch 9/10\n",
      "\u001b[1m625/625\u001b[0m \u001b[32m━━━━━━━━━━━━━━━━━━━━\u001b[0m\u001b[37m\u001b[0m \u001b[1m1s\u001b[0m 1ms/step - accuracy: 0.8663 - loss: 0.3206 - val_accuracy: 0.8292 - val_loss: 0.3874\n",
      "Epoch 10/10\n",
      "\u001b[1m625/625\u001b[0m \u001b[32m━━━━━━━━━━━━━━━━━━━━\u001b[0m\u001b[37m\u001b[0m \u001b[1m1s\u001b[0m 1ms/step - accuracy: 0.8700 - loss: 0.3168 - val_accuracy: 0.8290 - val_loss: 0.3879\n"
     ]
    },
    {
     "data": {
      "text/plain": [
       "<keras.src.callbacks.history.History at 0x27010de6a10>"
      ]
     },
     "execution_count": 285,
     "metadata": {},
     "output_type": "execute_result"
    }
   ],
   "source": [
    "from tensorflow.keras.callbacks import EarlyStopping\n",
    "sentiment_model.compile(optimizer='sgd',\n",
    "              loss='binary_crossentropy', metrics=['accuracy'])\n",
    "# early_stop = EarlyStopping(monitor='val_loss', patience=10, restore_best_weights=True)\n",
    "sentiment_model.fit(reviews_emb, labels, epochs=10 ,validation_split=0.2)"
   ]
  },
  {
   "cell_type": "code",
   "execution_count": null,
   "id": "1d5b9267",
   "metadata": {},
   "outputs": [],
   "source": [
    "# save the model\n",
    "# sentiment_model.save('models/sentiment_modelv1.1.keras')\n",
    "# load the model\n",
    "# sentiment_model = tf.keras.models.load_model('models/sentiment_modelv1.keras')\n"
   ]
  },
  {
   "cell_type": "code",
   "execution_count": 286,
   "id": "5ee2f4c6",
   "metadata": {},
   "outputs": [
    {
     "name": "stdout",
     "output_type": "stream",
     "text": [
      "dict_keys(['accuracy', 'loss', 'val_accuracy', 'val_loss'])\n"
     ]
    },
    {
     "data": {
      "image/png": "[encoded data removed]",
      "text/plain": [
       "<Figure size 1400x500 with 2 Axes>"
      ]
     },
     "metadata": {},
     "output_type": "display_data"
    }
   ],
   "source": [
    "import matplotlib.pyplot as plt\n",
    "\n",
    "history = sentiment_model.history.history\n",
    "print(history.keys())\n",
    "fig, axs = plt.subplots(1, 2, figsize=(14, 5))  \n",
    "axs[0].plot(history['loss'], label='Train Loss')\n",
    "axs[0].plot(history['val_loss'], label='Val Loss')\n",
    "axs[0].set_xlabel('Epochs')\n",
    "axs[0].set_ylabel('Loss')\n",
    "axs[0].set_title('Loss over Epochs')\n",
    "axs[0].legend()\n",
    "axs[1].plot(history['accuracy'], label='Train Accuracy')\n",
    "axs[1].plot(history['val_accuracy'], label='Val Accuracy')\n",
    "axs[1].set_xlabel('Epochs')\n",
    "axs[1].set_ylabel('Accuracy')\n",
    "axs[1].set_title('Accuracy over Epochs')\n",
    "axs[1].legend()\n",
    "plt.tight_layout()\n",
    "plt.show()\n"
   ]
  },
  {
   "cell_type": "markdown",
   "id": "4c176ee3",
   "metadata": {},
   "source": [
    "# Testing on Test set"
   ]
  },
  {
   "cell_type": "code",
   "execution_count": 169,
   "id": "ecdcb4f3",
   "metadata": {},
   "outputs": [
    {
     "name": "stdout",
     "output_type": "stream",
     "text": [
      "Found 25000 files belonging to 2 classes.\n"
     ]
    }
   ],
   "source": [
    "# model evaluation\n",
    "test_reviews = tf.keras.utils.text_dataset_from_directory(\n",
    "    'data/test',\n",
    "    batch_size=32,\n",
    "    seed=123,\n",
    ")\n",
    "\n",
    "test_texts = []\n",
    "test_labels = []\n",
    "\n",
    "for batch, label in test_reviews:\n",
    "    batch_texts = [t.decode(\"utf-8\") for t in batch.numpy()]\n",
    "    test_texts.extend(batch_texts)\n",
    "    test_labels.extend(label.numpy())\n",
    "\n"
   ]
  },
  {
   "cell_type": "code",
   "execution_count": null,
   "id": "11efcea3",
   "metadata": {},
   "outputs": [
    {
     "name": "stderr",
     "output_type": "stream",
     "text": [
      "Batches:   0%|          | 0/782 [00:00<?, ?it/s]c:\\Users\\25194\\Desktop\\Sentiment-Analyzer\\.venv\\lib\\site-packages\\torch\\nn\\modules\\module.py:1762: FutureWarning: `encoder_attention_mask` is deprecated and will be removed in version 4.55.0 for `BertSdpaSelfAttention.forward`.\n",
      "  return forward_call(*args, **kwargs)\n",
      "Batches: 100%|██████████| 782/782 [10:56<00:00,  1.19it/s]\n"
     ]
    }
   ],
   "source": [
    "# test_emb = model.encode(test_texts, show_progress_bar=True, batch_size=32)\n",
    "# np.save('models/test_embeddings.npy', test_emb)\n"
   ]
  },
  {
   "cell_type": "code",
   "execution_count": 210,
   "id": "734e31e7",
   "metadata": {},
   "outputs": [],
   "source": [
    "test_emb = np.load('models/test_embeddings.npy')\n"
   ]
  },
  {
   "cell_type": "code",
   "execution_count": 294,
   "id": "cbc4a1ec",
   "metadata": {},
   "outputs": [
    {
     "name": "stdout",
     "output_type": "stream",
     "text": [
      "\u001b[1m782/782\u001b[0m \u001b[32m━━━━━━━━━━━━━━━━━━━━\u001b[0m\u001b[37m\u001b[0m \u001b[1m1s\u001b[0m 689us/step\n",
      "Test Accuracy: 0.8155\n",
      "\n",
      "Classification Report:\n",
      "              precision    recall  f1-score   support\n",
      "\n",
      "         neg       0.80      0.84      0.82     12500\n",
      "         pos       0.83      0.79      0.81     12500\n",
      "\n",
      "    accuracy                           0.82     25000\n",
      "   macro avg       0.82      0.82      0.82     25000\n",
      "weighted avg       0.82      0.82      0.82     25000\n",
      "\n",
      "\n",
      "Confusion Matrix:\n",
      "[[10452  2048]\n",
      " [ 2565  9935]]\n"
     ]
    }
   ],
   "source": [
    "import numpy as np\n",
    "from sklearn.metrics import accuracy_score, classification_report, confusion_matrix\n",
    "pred_probs = sentiment_model.predict(test_emb)\n",
    "pred_labels = (pred_probs > 0.5).astype(int).flatten()\n",
    "true_labels = np.array(test_labels)\n",
    "acc = accuracy_score(true_labels, pred_labels)\n",
    "print(f\"Test Accuracy: {acc:.4f}\")\n",
    "print(\"\\nClassification Report:\")\n",
    "print(classification_report(true_labels, pred_labels, target_names=['neg', 'pos']))\n",
    "print(\"\\nConfusion Matrix:\")\n",
    "print(confusion_matrix(true_labels, pred_labels))"
   ]
  },
  {
   "cell_type": "markdown",
   "id": "30cb2835",
   "metadata": {},
   "source": [
    "# Testing on Real world Inputs"
   ]
  },
  {
   "cell_type": "code",
   "execution_count": 279,
   "id": "a5ffb832",
   "metadata": {},
   "outputs": [
    {
     "name": "stderr",
     "output_type": "stream",
     "text": [
      "Batches: 100%|██████████| 1/1 [00:00<00:00, 44.23it/s]"
     ]
    },
    {
     "name": "stdout",
     "output_type": "stream",
     "text": [
      "\u001b[1m1/1\u001b[0m \u001b[32m━━━━━━━━━━━━━━━━━━━━\u001b[0m\u001b[37m\u001b[0m \u001b[1m0s\u001b[0m 34ms/step\n",
      "[[0.99997354]\n",
      " [0.84440017]\n",
      " [0.98174685]\n",
      " [0.9999997 ]\n",
      " [0.13207987]\n",
      " [0.99999774]\n",
      " [0.4936828 ]]\n",
      "Positive sentiment detected.\n",
      "Positive sentiment detected.\n",
      "Positive sentiment detected.\n",
      "Positive sentiment detected.\n",
      "Negative sentiment detected.\n",
      "Positive sentiment detected.\n",
      "Negative sentiment detected.\n"
     ]
    },
    {
     "name": "stderr",
     "output_type": "stream",
     "text": [
      "\n"
     ]
    }
   ],
   "source": [
    "texts = [\n",
    "    'This product exceeded my expectations! The quality is amazing and delivery was super fast.', \n",
    "    'I was really disappointed. The item arrived damaged and customer service was unhelpful.',\n",
    "    \"It's okay, nothing special but does the job. Not great, not terrible.\",\n",
    "    \"Absolutely love it! Ive been using it every day and it works perfectly.\",\n",
    "    \"Terrible experience. The product stopped working after just one week.\",\n",
    "    \"This product is fantastic! Highly recommend it.\",\n",
    "    \"I don't like this product at all. its a waste of money\",\n",
    "]\n",
    "embeddings = model.encode(texts, show_progress_bar=True, batch_size=32)\n",
    "predictions = sentiment_model.predict(embeddings)\n",
    "\n",
    "print(predictions)      \n",
    "\n",
    "for pred in predictions:\n",
    "    if pred[0] < 0.5:\n",
    "        print(\"Negative sentiment detected.\")\n",
    "    else:\n",
    "        print(\"Positive sentiment detected.\")\n"
   ]
  },
  {
   "cell_type": "code",
   "execution_count": 277,
   "id": "2f821ca4",
   "metadata": {},
   "outputs": [
    {
     "name": "stdout",
     "output_type": "stream",
     "text": [
      "0.8571428571428571\n",
      "              precision    recall  f1-score   support\n",
      "\n",
      "         neg       1.00      0.67      0.80         3\n",
      "         pos       0.80      1.00      0.89         4\n",
      "\n",
      "    accuracy                           0.86         7\n",
      "   macro avg       0.90      0.83      0.84         7\n",
      "weighted avg       0.89      0.86      0.85         7\n",
      "\n",
      "[[2 1]\n",
      " [0 4]]\n"
     ]
    }
   ],
   "source": [
    "predictions = (predictions > 0.5).astype(int).flatten()\n",
    "true_labels_texts = np.array([1, 0, 1, 1, 0 , 1 , 0])  # Example true labels for the custom texts\n",
    "print(sklearn.metrics.accuracy_score(true_labels_texts,predictions))\n",
    "print(classification_report(true_labels_texts, (predictions > 0.5).astype(int).flatten(), target_names=['neg', 'pos']))\n",
    "print(confusion_matrix(true_labels_texts, predictions))"
   ]
  },
  {
   "cell_type": "code",
   "execution_count": null,
   "id": "68ad4d09",
   "metadata": {},
   "outputs": [],
   "source": []
  }
 ],
 "metadata": {
  "kernelspec": {
   "display_name": ".venv",
   "language": "python",
   "name": "python3"
  },
  "language_info": {
   "codemirror_mode": {
    "name": "ipython",
    "version": 3
   },
   "file_extension": ".py",
   "mimetype": "text/x-python",
   "name": "python",
   "nbconvert_exporter": "python",
   "pygments_lexer": "ipython3",
   "version": "3.10.11"
  }
 },
 "nbformat": 4,
 "nbformat_minor": 5
}
