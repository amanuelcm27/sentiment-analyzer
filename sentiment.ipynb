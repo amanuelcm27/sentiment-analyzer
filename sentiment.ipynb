{
 "cells": [
  {
   "cell_type": "markdown",
   "id": "b0d941ac",
   "metadata": {},
   "source": [
    "# Sentiment analysis model"
   ]
  },
  {
   "cell_type": "code",
   "execution_count": 1,
   "id": "cfc82068",
   "metadata": {},
   "outputs": [],
   "source": [
    "import pandas as pd\n",
    "import numpy as np\n",
    "import sklearn\n",
    "import tensorflow as tf\n",
    "import torch"
   ]
  },
  {
   "cell_type": "markdown",
   "id": "e325b7db",
   "metadata": {},
   "source": [
    "# Loading our dataset"
   ]
  },
  {
   "cell_type": "code",
   "execution_count": 17,
   "id": "17426cc0",
   "metadata": {},
   "outputs": [
    {
     "name": "stdout",
     "output_type": "stream",
     "text": [
      "Found 25000 files belonging to 2 classes.\n"
     ]
    },
    {
     "data": {
      "text/plain": [
       "['neg', 'pos']"
      ]
     },
     "execution_count": 17,
     "metadata": {},
     "output_type": "execute_result"
    }
   ],
   "source": [
    "# loading reviews dataset\n",
    "reviews = tf.keras.utils.text_dataset_from_directory(\n",
    "    'data/train',\n",
    "    batch_size=32,\n",
    "    seed=123,\n",
    ")\n",
    "reviews.class_names"
   ]
  },
  {
   "cell_type": "code",
   "execution_count": 33,
   "id": "9bb18ca7",
   "metadata": {},
   "outputs": [],
   "source": [
    "texts = []\n",
    "labels = []\n",
    "\n",
    "for batch, label in reviews:\n",
    "    batch_texts = [t.decode(\"utf-8\") for t in batch.numpy()]\n",
    "    texts.extend(batch_texts)\n",
    "    labels.extend(label.numpy())\n",
    "\n"
   ]
  },
  {
   "cell_type": "code",
   "execution_count": 34,
   "id": "1119ec2b",
   "metadata": {},
   "outputs": [
    {
     "name": "stdout",
     "output_type": "stream",
     "text": [
      "0\n"
     ]
    }
   ],
   "source": [
    "print(labels[0])"
   ]
  },
  {
   "cell_type": "code",
   "execution_count": 41,
   "id": "370f0d17",
   "metadata": {},
   "outputs": [
    {
     "name": "stdout",
     "output_type": "stream",
     "text": [
      "text5 Now here's a film straight out of my childhood, my family used to taped; but it kind of got tapped over and losted over the years. Now I was fortunate to watch the whole film on youtube.com; I had love this wonderful film when I watched it as kid, and after watching again (online), I still do today. My favorite song from the movie is \"Candy Hearts and Paper Flowers\" (I will always remember that sweet song forever). <br /><br />I was surprised when I looked at the opening credits (on who animated who),that some of the animators date back to 1930s (WOW! that's like 47 years).\n",
      "label5 1\n"
     ]
    }
   ],
   "source": [
    "# print 1 examples text and its label\n",
    "# print('text', texts[1])\n",
    "# print('label', labels[1])\n",
    "# print('text2' , texts[2])\n",
    "# print('label2' , labels[2])\n",
    "# print('text3' , texts[3])\n",
    "# print('label3' , labels[3])\n",
    "# print('text4' , texts[4])\n",
    "# print('label4' , labels[4])\n",
    "print('text5' , texts[5])\n",
    "print('label5' , labels[5])"
   ]
  },
  {
   "cell_type": "markdown",
   "id": "f5b43124",
   "metadata": {},
   "source": [
    "# Embedding the reviews for sentiment analysis "
   ]
  },
  {
   "cell_type": "code",
   "execution_count": null,
   "id": "fc126a0c",
   "metadata": {},
   "outputs": [
    {
     "name": "stderr",
     "output_type": "stream",
     "text": [
      "Batches:   0%|          | 0/782 [00:00<?, ?it/s]c:\\Users\\25194\\Desktop\\Sentiment-Analyzer\\.venv\\lib\\site-packages\\torch\\nn\\modules\\module.py:1762: FutureWarning: `encoder_attention_mask` is deprecated and will be removed in version 4.55.0 for `BertSdpaSelfAttention.forward`.\n",
      "  return forward_call(*args, **kwargs)\n",
      "Batches: 100%|██████████| 782/782 [11:28<00:00,  1.14it/s]\n"
     ]
    }
   ],
   "source": [
    "from sentence_transformers import SentenceTransformer\n",
    "model = SentenceTransformer('all-MiniLM-L6-v2')\n",
    "# review_embeddings = model.encode(texts, show_progress_bar=True , batch_size=32)"
   ]
  },
  {
   "cell_type": "code",
   "execution_count": null,
   "id": "3a5939ff",
   "metadata": {},
   "outputs": [],
   "source": [
    "# # save the embeddings\n",
    "# np.save('models/review_embeddings.npy', review_embeddings)\n",
    "# np.save('models/review_labels.npy', labels)\n"
   ]
  },
  {
   "cell_type": "code",
   "execution_count": 45,
   "id": "68c99e8b",
   "metadata": {},
   "outputs": [
    {
     "data": {
      "text/plain": [
       "((25000, 384), (25000,))"
      ]
     },
     "execution_count": 45,
     "metadata": {},
     "output_type": "execute_result"
    }
   ],
   "source": [
    "reviews_emb = np.load('models/review_embeddings.npy')\n",
    "labels = np.load('models/review_labels.npy')\n",
    "test_emb = np.load('models/test_embeddings.npy')\n",
    "reviews_emb.shape, labels.shape"
   ]
  },
  {
   "cell_type": "code",
   "execution_count": 48,
   "id": "25e9c5ca",
   "metadata": {},
   "outputs": [
    {
     "name": "stdout",
     "output_type": "stream",
     "text": [
      "review 5 (384,)\n",
      "label 5 1\n"
     ]
    }
   ],
   "source": [
    "print(f\"review 5\" , reviews_emb[5].shape)\n",
    "print(f\"label 5\" , labels[5])"
   ]
  },
  {
   "cell_type": "markdown",
   "id": "4dc9a05c",
   "metadata": {},
   "source": [
    "# Building the Neural Network"
   ]
  },
  {
   "cell_type": "code",
   "execution_count": 49,
   "id": "fbf075ad",
   "metadata": {},
   "outputs": [
    {
     "data": {
      "text/html": [
       "<pre style=\"white-space:pre;overflow-x:auto;line-height:normal;font-family:Menlo,'DejaVu Sans Mono',consolas,'Courier New',monospace\"><span style=\"font-weight: bold\">Model: \"sequential_1\"</span>\n",
       "</pre>\n"
      ],
      "text/plain": [
       "\u001b[1mModel: \"sequential_1\"\u001b[0m\n"
      ]
     },
     "metadata": {},
     "output_type": "display_data"
    },
    {
     "data": {
      "text/html": [
       "<pre style=\"white-space:pre;overflow-x:auto;line-height:normal;font-family:Menlo,'DejaVu Sans Mono',consolas,'Courier New',monospace\">┏━━━━━━━━━━━━━━━━━━━━━━━━━━━━━━━━━┳━━━━━━━━━━━━━━━━━━━━━━━━┳━━━━━━━━━━━━━━━┓\n",
       "┃<span style=\"font-weight: bold\"> Layer (type)                    </span>┃<span style=\"font-weight: bold\"> Output Shape           </span>┃<span style=\"font-weight: bold\">       Param # </span>┃\n",
       "┡━━━━━━━━━━━━━━━━━━━━━━━━━━━━━━━━━╇━━━━━━━━━━━━━━━━━━━━━━━━╇━━━━━━━━━━━━━━━┩\n",
       "│ dense_2 (<span style=\"color: #0087ff; text-decoration-color: #0087ff\">Dense</span>)                 │ (<span style=\"color: #00d7ff; text-decoration-color: #00d7ff\">None</span>, <span style=\"color: #00af00; text-decoration-color: #00af00\">128</span>)            │        <span style=\"color: #00af00; text-decoration-color: #00af00\">49,280</span> │\n",
       "├─────────────────────────────────┼────────────────────────┼───────────────┤\n",
       "│ dropout_1 (<span style=\"color: #0087ff; text-decoration-color: #0087ff\">Dropout</span>)             │ (<span style=\"color: #00d7ff; text-decoration-color: #00d7ff\">None</span>, <span style=\"color: #00af00; text-decoration-color: #00af00\">128</span>)            │             <span style=\"color: #00af00; text-decoration-color: #00af00\">0</span> │\n",
       "├─────────────────────────────────┼────────────────────────┼───────────────┤\n",
       "│ dense_3 (<span style=\"color: #0087ff; text-decoration-color: #0087ff\">Dense</span>)                 │ (<span style=\"color: #00d7ff; text-decoration-color: #00d7ff\">None</span>, <span style=\"color: #00af00; text-decoration-color: #00af00\">1</span>)              │           <span style=\"color: #00af00; text-decoration-color: #00af00\">129</span> │\n",
       "└─────────────────────────────────┴────────────────────────┴───────────────┘\n",
       "</pre>\n"
      ],
      "text/plain": [
       "┏━━━━━━━━━━━━━━━━━━━━━━━━━━━━━━━━━┳━━━━━━━━━━━━━━━━━━━━━━━━┳━━━━━━━━━━━━━━━┓\n",
       "┃\u001b[1m \u001b[0m\u001b[1mLayer (type)                   \u001b[0m\u001b[1m \u001b[0m┃\u001b[1m \u001b[0m\u001b[1mOutput Shape          \u001b[0m\u001b[1m \u001b[0m┃\u001b[1m \u001b[0m\u001b[1m      Param #\u001b[0m\u001b[1m \u001b[0m┃\n",
       "┡━━━━━━━━━━━━━━━━━━━━━━━━━━━━━━━━━╇━━━━━━━━━━━━━━━━━━━━━━━━╇━━━━━━━━━━━━━━━┩\n",
       "│ dense_2 (\u001b[38;5;33mDense\u001b[0m)                 │ (\u001b[38;5;45mNone\u001b[0m, \u001b[38;5;34m128\u001b[0m)            │        \u001b[38;5;34m49,280\u001b[0m │\n",
       "├─────────────────────────────────┼────────────────────────┼───────────────┤\n",
       "│ dropout_1 (\u001b[38;5;33mDropout\u001b[0m)             │ (\u001b[38;5;45mNone\u001b[0m, \u001b[38;5;34m128\u001b[0m)            │             \u001b[38;5;34m0\u001b[0m │\n",
       "├─────────────────────────────────┼────────────────────────┼───────────────┤\n",
       "│ dense_3 (\u001b[38;5;33mDense\u001b[0m)                 │ (\u001b[38;5;45mNone\u001b[0m, \u001b[38;5;34m1\u001b[0m)              │           \u001b[38;5;34m129\u001b[0m │\n",
       "└─────────────────────────────────┴────────────────────────┴───────────────┘\n"
      ]
     },
     "metadata": {},
     "output_type": "display_data"
    },
    {
     "data": {
      "text/html": [
       "<pre style=\"white-space:pre;overflow-x:auto;line-height:normal;font-family:Menlo,'DejaVu Sans Mono',consolas,'Courier New',monospace\"><span style=\"font-weight: bold\"> Total params: </span><span style=\"color: #00af00; text-decoration-color: #00af00\">49,409</span> (193.00 KB)\n",
       "</pre>\n"
      ],
      "text/plain": [
       "\u001b[1m Total params: \u001b[0m\u001b[38;5;34m49,409\u001b[0m (193.00 KB)\n"
      ]
     },
     "metadata": {},
     "output_type": "display_data"
    },
    {
     "data": {
      "text/html": [
       "<pre style=\"white-space:pre;overflow-x:auto;line-height:normal;font-family:Menlo,'DejaVu Sans Mono',consolas,'Courier New',monospace\"><span style=\"font-weight: bold\"> Trainable params: </span><span style=\"color: #00af00; text-decoration-color: #00af00\">49,409</span> (193.00 KB)\n",
       "</pre>\n"
      ],
      "text/plain": [
       "\u001b[1m Trainable params: \u001b[0m\u001b[38;5;34m49,409\u001b[0m (193.00 KB)\n"
      ]
     },
     "metadata": {},
     "output_type": "display_data"
    },
    {
     "data": {
      "text/html": [
       "<pre style=\"white-space:pre;overflow-x:auto;line-height:normal;font-family:Menlo,'DejaVu Sans Mono',consolas,'Courier New',monospace\"><span style=\"font-weight: bold\"> Non-trainable params: </span><span style=\"color: #00af00; text-decoration-color: #00af00\">0</span> (0.00 B)\n",
       "</pre>\n"
      ],
      "text/plain": [
       "\u001b[1m Non-trainable params: \u001b[0m\u001b[38;5;34m0\u001b[0m (0.00 B)\n"
      ]
     },
     "metadata": {},
     "output_type": "display_data"
    }
   ],
   "source": [
    "from tensorflow.keras.layers import Dense, Dropout, Input\n",
    "from tensorflow.keras.models import Sequential  \n",
    "sentiment_model = Sequential([\n",
    "    Input(shape=(384,)),\n",
    "    Dense(128, activation='relu'),\n",
    "    Dropout(0.3),\n",
    "    Dense(1, activation='sigmoid')  # binary classification\n",
    "])\n",
    "sentiment_model.summary()\n"
   ]
  },
  {
   "cell_type": "markdown",
   "id": "b933591a",
   "metadata": {},
   "source": [
    "# Compiling and fitting our model"
   ]
  },
  {
   "cell_type": "code",
   "execution_count": 50,
   "id": "fa3b72b7",
   "metadata": {},
   "outputs": [
    {
     "name": "stdout",
     "output_type": "stream",
     "text": [
      "Epoch 1/10\n",
      "\u001b[1m625/625\u001b[0m \u001b[32m━━━━━━━━━━━━━━━━━━━━\u001b[0m\u001b[37m\u001b[0m \u001b[1m2s\u001b[0m 2ms/step - accuracy: 0.7472 - loss: 0.5411 - val_accuracy: 0.7968 - val_loss: 0.4301\n",
      "Epoch 2/10\n",
      "\u001b[1m625/625\u001b[0m \u001b[32m━━━━━━━━━━━━━━━━━━━━\u001b[0m\u001b[37m\u001b[0m \u001b[1m1s\u001b[0m 1ms/step - accuracy: 0.8070 - loss: 0.4191 - val_accuracy: 0.8052 - val_loss: 0.4179\n",
      "Epoch 3/10\n",
      "\u001b[1m625/625\u001b[0m \u001b[32m━━━━━━━━━━━━━━━━━━━━\u001b[0m\u001b[37m\u001b[0m \u001b[1m1s\u001b[0m 1ms/step - accuracy: 0.8093 - loss: 0.4062 - val_accuracy: 0.8100 - val_loss: 0.4104\n",
      "Epoch 4/10\n",
      "\u001b[1m625/625\u001b[0m \u001b[32m━━━━━━━━━━━━━━━━━━━━\u001b[0m\u001b[37m\u001b[0m \u001b[1m1s\u001b[0m 1ms/step - accuracy: 0.8213 - loss: 0.3931 - val_accuracy: 0.8158 - val_loss: 0.4051\n",
      "Epoch 5/10\n",
      "\u001b[1m625/625\u001b[0m \u001b[32m━━━━━━━━━━━━━━━━━━━━\u001b[0m\u001b[37m\u001b[0m \u001b[1m1s\u001b[0m 1ms/step - accuracy: 0.8280 - loss: 0.3811 - val_accuracy: 0.8150 - val_loss: 0.4011\n",
      "Epoch 6/10\n",
      "\u001b[1m625/625\u001b[0m \u001b[32m━━━━━━━━━━━━━━━━━━━━\u001b[0m\u001b[37m\u001b[0m \u001b[1m1s\u001b[0m 1ms/step - accuracy: 0.8288 - loss: 0.3764 - val_accuracy: 0.8192 - val_loss: 0.3993\n",
      "Epoch 7/10\n",
      "\u001b[1m625/625\u001b[0m \u001b[32m━━━━━━━━━━━━━━━━━━━━\u001b[0m\u001b[37m\u001b[0m \u001b[1m1s\u001b[0m 1ms/step - accuracy: 0.8393 - loss: 0.3629 - val_accuracy: 0.8160 - val_loss: 0.3944\n",
      "Epoch 8/10\n",
      "\u001b[1m625/625\u001b[0m \u001b[32m━━━━━━━━━━━━━━━━━━━━\u001b[0m\u001b[37m\u001b[0m \u001b[1m1s\u001b[0m 1ms/step - accuracy: 0.8453 - loss: 0.3544 - val_accuracy: 0.8246 - val_loss: 0.3926\n",
      "Epoch 9/10\n",
      "\u001b[1m625/625\u001b[0m \u001b[32m━━━━━━━━━━━━━━━━━━━━\u001b[0m\u001b[37m\u001b[0m \u001b[1m1s\u001b[0m 1ms/step - accuracy: 0.8476 - loss: 0.3515 - val_accuracy: 0.8222 - val_loss: 0.3902\n",
      "Epoch 10/10\n",
      "\u001b[1m625/625\u001b[0m \u001b[32m━━━━━━━━━━━━━━━━━━━━\u001b[0m\u001b[37m\u001b[0m \u001b[1m1s\u001b[0m 1ms/step - accuracy: 0.8547 - loss: 0.3369 - val_accuracy: 0.8258 - val_loss: 0.3875\n"
     ]
    },
    {
     "data": {
      "text/plain": [
       "<keras.src.callbacks.history.History at 0x26fef69af20>"
      ]
     },
     "execution_count": 50,
     "metadata": {},
     "output_type": "execute_result"
    }
   ],
   "source": [
    "sentiment_model.compile(optimizer='adam',\n",
    "              loss='binary_crossentropy', metrics=['accuracy'])\n",
    "sentiment_model.fit(reviews_emb, labels, epochs=10 ,validation_split=0.2)"
   ]
  },
  {
   "cell_type": "code",
   "execution_count": 57,
   "id": "1d5b9267",
   "metadata": {},
   "outputs": [],
   "source": [
    "# save the model\n",
    "sentiment_model.save('models/sentiment_modelv1.keras')"
   ]
  },
  {
   "cell_type": "code",
   "execution_count": 84,
   "id": "ecdcb4f3",
   "metadata": {},
   "outputs": [
    {
     "name": "stdout",
     "output_type": "stream",
     "text": [
      "Found 25000 files belonging to 2 classes.\n"
     ]
    }
   ],
   "source": [
    "# model evaluation\n",
    "test_reviews = tf.keras.utils.text_dataset_from_directory(\n",
    "    'data/test',\n",
    "    batch_size=32,\n",
    "    seed=123,\n",
    ")\n",
    "\n",
    "test_texts = []\n",
    "test_labels = []\n",
    "\n",
    "for batch, label in test_reviews:\n",
    "    batch_texts = [t.decode(\"utf-8\") for t in batch.numpy()]\n",
    "    test_texts.extend(batch_texts)\n",
    "    test_labels.extend(label.numpy())\n",
    "\n"
   ]
  },
  {
   "cell_type": "code",
   "execution_count": null,
   "id": "11efcea3",
   "metadata": {},
   "outputs": [
    {
     "name": "stderr",
     "output_type": "stream",
     "text": [
      "Batches:   0%|          | 0/782 [00:00<?, ?it/s]c:\\Users\\25194\\Desktop\\Sentiment-Analyzer\\.venv\\lib\\site-packages\\torch\\nn\\modules\\module.py:1762: FutureWarning: `encoder_attention_mask` is deprecated and will be removed in version 4.55.0 for `BertSdpaSelfAttention.forward`.\n",
      "  return forward_call(*args, **kwargs)\n",
      "Batches: 100%|██████████| 782/782 [10:58<00:00,  1.19it/s]\n"
     ]
    }
   ],
   "source": [
    "# test_emb = model.encode(test_texts, show_progress_bar=True, batch_size=32)"
   ]
  },
  {
   "cell_type": "code",
   "execution_count": 87,
   "id": "656e9df0",
   "metadata": {},
   "outputs": [],
   "source": [
    "np.save('models/test_embeddings.npy', test_emb)\n"
   ]
  },
  {
   "cell_type": "code",
   "execution_count": 88,
   "id": "089c642e",
   "metadata": {},
   "outputs": [
    {
     "name": "stdout",
     "output_type": "stream",
     "text": [
      "dict_keys(['accuracy', 'loss', 'val_accuracy', 'val_loss'])\n"
     ]
    },
    {
     "data": {
      "image/png": "[encoded data removed]",
      "text/plain": [
       "<Figure size 1400x500 with 2 Axes>"
      ]
     },
     "metadata": {},
     "output_type": "display_data"
    }
   ],
   "source": [
    "import matplotlib.pyplot as plt\n",
    "\n",
    "history = sentiment_model.history.history\n",
    "print(history.keys())\n",
    "fig, axs = plt.subplots(1, 2, figsize=(14, 5))  \n",
    "axs[0].plot(history['loss'], label='Train Loss')\n",
    "axs[0].plot(history['val_loss'], label='Val Loss')\n",
    "axs[0].set_xlabel('Epochs')\n",
    "axs[0].set_ylabel('Loss')\n",
    "axs[0].set_title('Loss over Epochs')\n",
    "axs[0].legend()\n",
    "axs[1].plot(history['accuracy'], label='Train Accuracy')\n",
    "axs[1].plot(history['val_accuracy'], label='Val Accuracy')\n",
    "axs[1].set_xlabel('Epochs')\n",
    "axs[1].set_ylabel('Accuracy')\n",
    "axs[1].set_title('Accuracy over Epochs')\n",
    "axs[1].legend()\n",
    "\n",
    "plt.show()\n"
   ]
  },
  {
   "cell_type": "code",
   "execution_count": 72,
   "id": "a5ffb832",
   "metadata": {},
   "outputs": [
    {
     "name": "stderr",
     "output_type": "stream",
     "text": [
      "Batches: 100%|██████████| 1/1 [00:00<00:00, 81.64it/s]"
     ]
    },
    {
     "name": "stdout",
     "output_type": "stream",
     "text": [
      "\u001b[1m1/1\u001b[0m \u001b[32m━━━━━━━━━━━━━━━━━━━━\u001b[0m\u001b[37m\u001b[0m \u001b[1m0s\u001b[0m 33ms/step\n",
      "(2, 384)\n",
      "[[0.00647785]\n",
      " [0.9983706 ]]\n"
     ]
    },
    {
     "name": "stderr",
     "output_type": "stream",
     "text": [
      "\n"
     ]
    }
   ],
   "source": [
    "# test on custom text\n",
    "texts = [' this movie lacks good quality , good acting , good plot' , 'this movie has good quality , good acting , good plot']\n",
    "embeddings = model.encode(texts, show_progress_bar=True, batch_size=32)\n",
    "predictions = sentiment_model.predict(embeddings)\n",
    "print(embeddings.shape)\n",
    "print(predictions)"
   ]
  },
  {
   "cell_type": "code",
   "execution_count": 91,
   "id": "450e24c1",
   "metadata": {},
   "outputs": [
    {
     "name": "stdout",
     "output_type": "stream",
     "text": [
      "\u001b[1m782/782\u001b[0m \u001b[32m━━━━━━━━━━━━━━━━━━━━\u001b[0m\u001b[37m\u001b[0m \u001b[1m0s\u001b[0m 574us/step\n",
      "Test Accuracy: 0.8140\n",
      "\n",
      "Classification Report:\n",
      "              precision    recall  f1-score   support\n",
      "\n",
      "         neg       0.81      0.82      0.81     12500\n",
      "         pos       0.82      0.81      0.81     12500\n",
      "\n",
      "    accuracy                           0.81     25000\n",
      "   macro avg       0.81      0.81      0.81     25000\n",
      "weighted avg       0.81      0.81      0.81     25000\n",
      "\n",
      "\n",
      "Confusion Matrix:\n",
      "[[10235  2265]\n",
      " [ 2384 10116]]\n"
     ]
    }
   ],
   "source": [
    "import numpy as np\n",
    "from sklearn.metrics import accuracy_score, classification_report, confusion_matrix\n",
    "pred_probs = sentiment_model.predict(test_emb)\n",
    "pred_labels = (pred_probs > 0.5).astype(int).flatten()\n",
    "true_labels = np.array(test_labels)\n",
    "acc = accuracy_score(true_labels, pred_labels)\n",
    "print(f\"Test Accuracy: {acc:.4f}\")\n",
    "print(\"\\nClassification Report:\")\n",
    "print(classification_report(true_labels, pred_labels, target_names=['neg', 'pos']))\n",
    "print(\"\\nConfusion Matrix:\")\n",
    "print(confusion_matrix(true_labels, pred_labels))\n"
   ]
  },
  {
   "cell_type": "code",
   "execution_count": null,
   "id": "52901cb9",
   "metadata": {},
   "outputs": [],
   "source": []
  }
 ],
 "metadata": {
  "kernelspec": {
   "display_name": ".venv",
   "language": "python",
   "name": "python3"
  },
  "language_info": {
   "codemirror_mode": {
    "name": "ipython",
    "version": 3
   },
   "file_extension": ".py",
   "mimetype": "text/x-python",
   "name": "python",
   "nbconvert_exporter": "python",
   "pygments_lexer": "ipython3",
   "version": "3.10.11"
  }
 },
 "nbformat": 4,
 "nbformat_minor": 5
}
