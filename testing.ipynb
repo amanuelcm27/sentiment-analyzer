{
 "cells": [
  {
   "cell_type": "code",
   "execution_count": 6,
   "id": "f0242cf0",
   "metadata": {},
   "outputs": [
    {
     "name": "stdout",
     "output_type": "stream",
     "text": [
      "Loading Sentence Transformer...\n",
      "Loading Sentiment Model...\n",
      "🚀 Sentiment Analysis Demo\n",
      "--------------------------\n",
      "\u001b[1m1/1\u001b[0m \u001b[32m━━━━━━━━━━━━━━━━━━━━\u001b[0m\u001b[37m\u001b[0m \u001b[1m0s\u001b[0m 247ms/step\n",
      "\n",
      "📝 Input Text: Quality product would recommend anyone interested\n",
      "📊 Sentiment: Positive 😀\n",
      "🔍 Confidence: 99.59%\n",
      "\u001b[1m1/1\u001b[0m \u001b[32m━━━━━━━━━━━━━━━━━━━━\u001b[0m\u001b[37m\u001b[0m \u001b[1m0s\u001b[0m 107ms/step\n",
      "\n",
      "📝 Input Text: i hate this product don't waste your money\n",
      "📊 Sentiment: Negative 😡\n",
      "🔍 Confidence: 100.00%\n"
     ]
    }
   ],
   "source": [
    "import numpy as np\n",
    "from tensorflow.keras.models import load_model\n",
    "from sentence_transformers import SentenceTransformer\n",
    "\n",
    "print(\"Loading Sentence Transformer...\")\n",
    "embedder = SentenceTransformer('all-mpnet-base-v2')\n",
    "\n",
    "print(\"Loading Sentiment Model...\")\n",
    "model = load_model(\"models/sentiment_model_colabv.keras\")\n",
    "\n",
    "def predict_sentiment(text):\n",
    "    embedding = embedder.encode([text], convert_to_numpy=True)\n",
    "\n",
    "    prediction = model.predict(embedding)[0][0]\n",
    "\n",
    "    sentiment_label = \"Positive 😀\" if prediction >= 0.5 else \"Negative 😡\"\n",
    "    confidence = prediction if prediction >= 0.5 else 1 - prediction\n",
    "\n",
    "    print(\"\\n📝 Input Text:\", text)\n",
    "    print(f\"📊 Sentiment: {sentiment_label}\")\n",
    "    print(f\"🔍 Confidence: {confidence:.2%}\")\n",
    "\n",
    "if __name__ == \"__main__\":\n",
    "    print(\"🚀 Sentiment Analysis Demo\")\n",
    "    print(\"--------------------------\")\n",
    "    while True:\n",
    "        text_input = input(\"\\nEnter a sentence (or type 'quit' to exit): \")\n",
    "        if text_input.lower() == \"quit\":\n",
    "            break\n",
    "        predict_sentiment(text_input)\n"
   ]
  }
 ],
 "metadata": {
  "language_info": {
   "name": "python"
  }
 },
 "nbformat": 4,
 "nbformat_minor": 5
}
